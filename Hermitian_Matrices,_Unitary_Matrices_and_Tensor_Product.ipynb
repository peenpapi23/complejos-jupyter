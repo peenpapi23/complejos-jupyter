{
  "nbformat": 4,
  "nbformat_minor": 0,
  "metadata": {
    "colab": {
      "provenance": []
    },
    "kernelspec": {
      "name": "python3",
      "display_name": "Python 3"
    },
    "language_info": {
      "name": "python"
    }
  },
  "cells": [
    {
      "cell_type": "markdown",
      "source": [
        "# Hermitian Matrices, Unitary Matrices and Tensor Product\n",
        "Juan Diego Melo Suarez"
      ],
      "metadata": {
        "id": "q8diyUiq8hOb"
      }
    },
    {
      "cell_type": "code",
      "execution_count": 2,
      "metadata": {
        "id": "iSJBJJaozG4g"
      },
      "outputs": [],
      "source": [
        "import numpy as np"
      ]
    },
    {
      "cell_type": "markdown",
      "source": [
        "## Exercise 1: Complex Hermitian Matrices\n",
        "\n",
        "Consider the matrix:\n",
        "\n",
        "$$ H = \\begin{bmatrix} 3 & 2+i \\\\ 2-i & 1 \\end{bmatrix} $$\n",
        "\n",
        "- Verify if $ H $ is a Hermitian matrix.\n",
        "- If it is, find its eigenvalues.\n"
      ],
      "metadata": {
        "id": "tYodA-GkzJ_a"
      }
    },
    {
      "cell_type": "code",
      "source": [
        "h = np.array([[3,2+1j],[2-1j,1]])\n",
        "print(h)\n",
        "#find if hermitanian\n",
        "print(np.allclose(h,h.conj().T))\n",
        "#find eigenvalues\n",
        "print(np.linalg.eigvals(h))\n",
        "#"
      ],
      "metadata": {
        "colab": {
          "base_uri": "https://localhost:8080/"
        },
        "id": "MNBNmTEmzJLJ",
        "outputId": "f6487b6f-7f7c-4c21-9f4c-90365963773c"
      },
      "execution_count": 3,
      "outputs": [
        {
          "output_type": "stream",
          "name": "stdout",
          "text": [
            "[[3.+0.j 2.+1.j]\n",
            " [2.-1.j 1.+0.j]]\n",
            "True\n",
            "[ 4.44948974-6.70989255e-17j -0.44948974+1.15877743e-17j]\n"
          ]
        }
      ]
    },
    {
      "cell_type": "markdown",
      "source": [
        "## Exercise 2: Complex Unitary Matrices\n",
        "\n",
        "Consider the matrix:\n",
        "\n",
        "$$ U = \\frac{1}{\\sqrt{2}}\\begin{bmatrix} 1 & i \\\\ i & 1 \\end{bmatrix} $$\n",
        "\n",
        "- Verify if $ U $ is a Unitary matrix.\n",
        "- Compute $ UU^\\dagger $ to confirm its Unitarity, where $ U^\\dagger $ denotes the conjugate transpose of $ U $."
      ],
      "metadata": {
        "id": "folyUFshzawF"
      }
    },
    {
      "cell_type": "code",
      "source": [
        "u=np.array([[1,1j],[1j,1]])/np.sqrt(2)\n",
        "print(u)\n",
        "#find if unitary\n",
        "print(np.allclose(u@u.conj().T,np.eye(2)))\n"
      ],
      "metadata": {
        "colab": {
          "base_uri": "https://localhost:8080/"
        },
        "id": "wSTJjB4TzbVt",
        "outputId": "fde030be-5240-47c3-ee99-0df122c87851"
      },
      "execution_count": 4,
      "outputs": [
        {
          "output_type": "stream",
          "name": "stdout",
          "text": [
            "[[0.70710678+0.j         0.        +0.70710678j]\n",
            " [0.        +0.70710678j 0.70710678+0.j        ]]\n",
            "True\n"
          ]
        }
      ]
    },
    {
      "cell_type": "markdown",
      "source": [
        "## Exercise 4: Tensor Product for Complex Matrices\n",
        "\n",
        "Given the matrices:\n",
        "\n",
        "$$ M_1 = \\begin{bmatrix} 0 & 1 \\\\ 1 & 0 \\end{bmatrix}, \\quad M_2 = \\begin{bmatrix} i & 0 \\\\ 0 & -i \\end{bmatrix} $$\n",
        "\n",
        "Calculate the tensor product $ M_1 \\otimes M_2 $.\n"
      ],
      "metadata": {
        "id": "AFLGmK-M1WVx"
      }
    },
    {
      "cell_type": "code",
      "source": [
        "m1=np.array([[0,1],[1,0]])\n",
        "m2=np.array([[1j,0],[0,-1j]])\n",
        "print(np.kron(m1,m2))"
      ],
      "metadata": {
        "colab": {
          "base_uri": "https://localhost:8080/"
        },
        "id": "xLEPpGtp1j3I",
        "outputId": "24344adf-b9da-44da-df7e-628b656c178b"
      },
      "execution_count": 5,
      "outputs": [
        {
          "output_type": "stream",
          "name": "stdout",
          "text": [
            "[[0.+0.j 0.+0.j 0.+1.j 0.+0.j]\n",
            " [0.+0.j 0.-0.j 0.+0.j 0.-1.j]\n",
            " [0.+1.j 0.+0.j 0.+0.j 0.+0.j]\n",
            " [0.+0.j 0.-1.j 0.+0.j 0.-0.j]]\n"
          ]
        }
      ]
    },
    {
      "cell_type": "markdown",
      "source": [
        "## Exercise 5: Modelling quantum computations with vectors and matrices\n",
        "\n",
        "Using matrices and vectors, implement a model of the Mach/Zehnder interferometer.\n",
        "\n",
        "![Mach-Zehnder interferometer](images/Mach-Zehnder-Interferometer.png)"
      ],
      "metadata": {
        "id": "WjJebkmZ1oX4"
      }
    },
    {
      "cell_type": "code",
      "source": [
        "import numpy as np\n",
        "\n",
        "# Matrices Hadamard y reflexión\n",
        "hadamard = np.array([[1, 1j], [1j, 1]]) / np.sqrt(2)\n",
        "reflex = np.array([[0, 1], [1, 0]])\n",
        "\n",
        "# Estado inicial\n",
        "estado_0 = np.array([[0], [1]])\n",
        "\n",
        "estado_2 = hadamard @ estado_0  # Aplicar Hadamard\n",
        "estado_3 = reflex @ estado_2    # Aplicar Reflexión\n",
        "estado_4 = hadamard @ estado_3  # Aplicar Hadamard de nuevo\n",
        "\n",
        "# Imprimir resultados\n",
        "print(\"Estado inicial:\")\n",
        "print(estado_0)\n",
        "print(\"Después de Hadamard:\")\n",
        "print(estado_2)\n",
        "print(\"Después de Reflexión:\")\n",
        "print(estado_3)\n",
        "print(\"Después de Hadamard final:\")\n",
        "print(estado_4)\n"
      ],
      "metadata": {
        "colab": {
          "base_uri": "https://localhost:8080/"
        },
        "id": "X9X-t3jI1uH4",
        "outputId": "fb3f5fc4-1e83-41f2-ef3d-a2cf2eb5ea06"
      },
      "execution_count": 14,
      "outputs": [
        {
          "output_type": "stream",
          "name": "stdout",
          "text": [
            "Estado inicial:\n",
            "[[0]\n",
            " [1]]\n",
            "Después de Hadamard:\n",
            "[[0.        +0.70710678j]\n",
            " [0.70710678+0.j        ]]\n",
            "Después de Reflexión:\n",
            "[[0.70710678+0.j        ]\n",
            " [0.        +0.70710678j]]\n",
            "Después de Hadamard final:\n",
            "[[0.+0.j]\n",
            " [0.+1.j]]\n"
          ]
        }
      ]
    }
  ]
}